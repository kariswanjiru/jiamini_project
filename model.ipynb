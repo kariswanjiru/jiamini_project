{
 "cells": [
  {
   "cell_type": "markdown",
   "metadata": {},
   "source": [
    "## loading data and libraries"
   ]
  },
  {
   "cell_type": "code",
   "execution_count": 137,
   "metadata": {},
   "outputs": [],
   "source": [
    "import pandas as pd \n",
    "import numpy as nm\n",
    "import matplotlib.pyplot as plt\n",
    "import seaborn as sns\n",
    "import datetime\n",
    "import sklearn\n",
    "from sklearn.model_selection import train_test_split\n",
    "from sklearn.linear_model import LogisticRegression\n",
    "from sklearn.metrics import accuracy_score\n",
    "from sklearn.model_selection import StratifiedKFold\n",
    "from sklearn import metrics"
   ]
  },
  {
   "cell_type": "code",
   "execution_count": 138,
   "metadata": {},
   "outputs": [],
   "source": [
    "sales =  pd.read_csv('./data/phppos_sales.csv')\n",
    "sales_items =  pd.read_csv('./data/phppos_sales_items.csv')"
   ]
  },
  {
   "cell_type": "code",
   "execution_count": 139,
   "metadata": {},
   "outputs": [],
   "source": [
    "all_sales = pd.merge(sales_items , sales , on = 'sale_id')"
   ]
  },
  {
   "cell_type": "code",
   "execution_count": 140,
   "metadata": {},
   "outputs": [
    {
     "data": {
      "text/html": [
       "<div>\n",
       "<style scoped>\n",
       "    .dataframe tbody tr th:only-of-type {\n",
       "        vertical-align: middle;\n",
       "    }\n",
       "\n",
       "    .dataframe tbody tr th {\n",
       "        vertical-align: top;\n",
       "    }\n",
       "\n",
       "    .dataframe thead th {\n",
       "        text-align: right;\n",
       "    }\n",
       "</style>\n",
       "<table border=\"1\" class=\"dataframe\">\n",
       "  <thead>\n",
       "    <tr style=\"text-align: right;\">\n",
       "      <th></th>\n",
       "      <th>sale_id</th>\n",
       "      <th>item_id</th>\n",
       "      <th>quantity_purchased</th>\n",
       "      <th>item_cost_price</th>\n",
       "      <th>item_unit_price</th>\n",
       "      <th>discount_percent</th>\n",
       "      <th>sale_time</th>\n",
       "      <th>customer_id</th>\n",
       "      <th>employee_id</th>\n",
       "      <th>comment</th>\n",
       "      <th>payment_type</th>\n",
       "    </tr>\n",
       "  </thead>\n",
       "  <tbody>\n",
       "    <tr>\n",
       "      <th>0</th>\n",
       "      <td>1</td>\n",
       "      <td>1</td>\n",
       "      <td>3</td>\n",
       "      <td>94.00</td>\n",
       "      <td>130.0</td>\n",
       "      <td>0</td>\n",
       "      <td>2005-10-12 22:47:28</td>\n",
       "      <td>NaN</td>\n",
       "      <td>1</td>\n",
       "      <td>NaN</td>\n",
       "      <td>Cash</td>\n",
       "    </tr>\n",
       "    <tr>\n",
       "      <th>1</th>\n",
       "      <td>1</td>\n",
       "      <td>2</td>\n",
       "      <td>2</td>\n",
       "      <td>109.00</td>\n",
       "      <td>120.0</td>\n",
       "      <td>0</td>\n",
       "      <td>2005-10-12 22:47:28</td>\n",
       "      <td>NaN</td>\n",
       "      <td>1</td>\n",
       "      <td>NaN</td>\n",
       "      <td>Cash</td>\n",
       "    </tr>\n",
       "    <tr>\n",
       "      <th>2</th>\n",
       "      <td>2</td>\n",
       "      <td>1</td>\n",
       "      <td>5</td>\n",
       "      <td>94.00</td>\n",
       "      <td>130.0</td>\n",
       "      <td>0</td>\n",
       "      <td>2005-10-12 22:54:00</td>\n",
       "      <td>NaN</td>\n",
       "      <td>2</td>\n",
       "      <td>NaN</td>\n",
       "      <td>Cash</td>\n",
       "    </tr>\n",
       "    <tr>\n",
       "      <th>3</th>\n",
       "      <td>2</td>\n",
       "      <td>2</td>\n",
       "      <td>1</td>\n",
       "      <td>109.00</td>\n",
       "      <td>120.0</td>\n",
       "      <td>0</td>\n",
       "      <td>2005-10-12 22:54:00</td>\n",
       "      <td>NaN</td>\n",
       "      <td>2</td>\n",
       "      <td>NaN</td>\n",
       "      <td>Cash</td>\n",
       "    </tr>\n",
       "    <tr>\n",
       "      <th>4</th>\n",
       "      <td>3</td>\n",
       "      <td>1</td>\n",
       "      <td>1</td>\n",
       "      <td>94.00</td>\n",
       "      <td>130.0</td>\n",
       "      <td>0</td>\n",
       "      <td>2020-07-05 12:42:15</td>\n",
       "      <td>NaN</td>\n",
       "      <td>1</td>\n",
       "      <td>NaN</td>\n",
       "      <td>Cash</td>\n",
       "    </tr>\n",
       "    <tr>\n",
       "      <th>...</th>\n",
       "      <td>...</td>\n",
       "      <td>...</td>\n",
       "      <td>...</td>\n",
       "      <td>...</td>\n",
       "      <td>...</td>\n",
       "      <td>...</td>\n",
       "      <td>...</td>\n",
       "      <td>...</td>\n",
       "      <td>...</td>\n",
       "      <td>...</td>\n",
       "      <td>...</td>\n",
       "    </tr>\n",
       "    <tr>\n",
       "      <th>120170</th>\n",
       "      <td>81421</td>\n",
       "      <td>1431</td>\n",
       "      <td>1</td>\n",
       "      <td>9.00</td>\n",
       "      <td>10.0</td>\n",
       "      <td>0</td>\n",
       "      <td>2022-02-12 18:06:47</td>\n",
       "      <td>NaN</td>\n",
       "      <td>1</td>\n",
       "      <td>NaN</td>\n",
       "      <td>Cash</td>\n",
       "    </tr>\n",
       "    <tr>\n",
       "      <th>120171</th>\n",
       "      <td>81422</td>\n",
       "      <td>973</td>\n",
       "      <td>1</td>\n",
       "      <td>3.60</td>\n",
       "      <td>5.0</td>\n",
       "      <td>0</td>\n",
       "      <td>2022-02-12 18:11:13</td>\n",
       "      <td>NaN</td>\n",
       "      <td>1</td>\n",
       "      <td>NaN</td>\n",
       "      <td>Cash</td>\n",
       "    </tr>\n",
       "    <tr>\n",
       "      <th>120172</th>\n",
       "      <td>81423</td>\n",
       "      <td>1433</td>\n",
       "      <td>1</td>\n",
       "      <td>4.00</td>\n",
       "      <td>5.0</td>\n",
       "      <td>0</td>\n",
       "      <td>2022-02-12 18:16:18</td>\n",
       "      <td>NaN</td>\n",
       "      <td>1</td>\n",
       "      <td>NaN</td>\n",
       "      <td>MPESA</td>\n",
       "    </tr>\n",
       "    <tr>\n",
       "      <th>120173</th>\n",
       "      <td>81428</td>\n",
       "      <td>41</td>\n",
       "      <td>4</td>\n",
       "      <td>4.05</td>\n",
       "      <td>7.5</td>\n",
       "      <td>0</td>\n",
       "      <td>2022-02-12 18:28:03</td>\n",
       "      <td>NaN</td>\n",
       "      <td>1</td>\n",
       "      <td>NaN</td>\n",
       "      <td>Cash</td>\n",
       "    </tr>\n",
       "    <tr>\n",
       "      <th>120174</th>\n",
       "      <td>81428</td>\n",
       "      <td>1402</td>\n",
       "      <td>1</td>\n",
       "      <td>14.00</td>\n",
       "      <td>20.0</td>\n",
       "      <td>0</td>\n",
       "      <td>2022-02-12 18:28:03</td>\n",
       "      <td>NaN</td>\n",
       "      <td>1</td>\n",
       "      <td>NaN</td>\n",
       "      <td>Cash</td>\n",
       "    </tr>\n",
       "  </tbody>\n",
       "</table>\n",
       "<p>120175 rows × 11 columns</p>\n",
       "</div>"
      ],
      "text/plain": [
       "        sale_id  item_id  quantity_purchased  item_cost_price  \\\n",
       "0             1        1                   3            94.00   \n",
       "1             1        2                   2           109.00   \n",
       "2             2        1                   5            94.00   \n",
       "3             2        2                   1           109.00   \n",
       "4             3        1                   1            94.00   \n",
       "...         ...      ...                 ...              ...   \n",
       "120170    81421     1431                   1             9.00   \n",
       "120171    81422      973                   1             3.60   \n",
       "120172    81423     1433                   1             4.00   \n",
       "120173    81428       41                   4             4.05   \n",
       "120174    81428     1402                   1            14.00   \n",
       "\n",
       "        item_unit_price  discount_percent            sale_time  customer_id  \\\n",
       "0                 130.0                 0  2005-10-12 22:47:28          NaN   \n",
       "1                 120.0                 0  2005-10-12 22:47:28          NaN   \n",
       "2                 130.0                 0  2005-10-12 22:54:00          NaN   \n",
       "3                 120.0                 0  2005-10-12 22:54:00          NaN   \n",
       "4                 130.0                 0  2020-07-05 12:42:15          NaN   \n",
       "...                 ...               ...                  ...          ...   \n",
       "120170             10.0                 0  2022-02-12 18:06:47          NaN   \n",
       "120171              5.0                 0  2022-02-12 18:11:13          NaN   \n",
       "120172              5.0                 0  2022-02-12 18:16:18          NaN   \n",
       "120173              7.5                 0  2022-02-12 18:28:03          NaN   \n",
       "120174             20.0                 0  2022-02-12 18:28:03          NaN   \n",
       "\n",
       "        employee_id comment payment_type  \n",
       "0                 1     NaN         Cash  \n",
       "1                 1     NaN         Cash  \n",
       "2                 2     NaN         Cash  \n",
       "3                 2     NaN         Cash  \n",
       "4                 1     NaN         Cash  \n",
       "...             ...     ...          ...  \n",
       "120170            1     NaN         Cash  \n",
       "120171            1     NaN         Cash  \n",
       "120172            1     NaN        MPESA  \n",
       "120173            1     NaN         Cash  \n",
       "120174            1     NaN         Cash  \n",
       "\n",
       "[120175 rows x 11 columns]"
      ]
     },
     "execution_count": 140,
     "metadata": {},
     "output_type": "execute_result"
    }
   ],
   "source": [
    "all_sales"
   ]
  },
  {
   "cell_type": "markdown",
   "metadata": {},
   "source": [
    "## data cleaning"
   ]
  },
  {
   "cell_type": "markdown",
   "metadata": {},
   "source": [
    "minimart was opened on 2020 thus data from 2005 was wrongly filled"
   ]
  },
  {
   "cell_type": "code",
   "execution_count": 141,
   "metadata": {},
   "outputs": [],
   "source": [
    "all_sales.sale_time = pd.to_datetime(all_sales.sale_time,format = '%Y-%m-%d %H:%M')"
   ]
  },
  {
   "cell_type": "code",
   "execution_count": 142,
   "metadata": {},
   "outputs": [],
   "source": [
    "all_sales = all_sales[all_sales.sale_time > \"2005-12-31\"]"
   ]
  },
  {
   "cell_type": "code",
   "execution_count": 143,
   "metadata": {},
   "outputs": [
    {
     "data": {
      "text/plain": [
       "sale_id                        int64\n",
       "item_id                        int64\n",
       "quantity_purchased             int64\n",
       "item_cost_price              float64\n",
       "item_unit_price              float64\n",
       "discount_percent               int64\n",
       "sale_time             datetime64[ns]\n",
       "customer_id                  float64\n",
       "employee_id                    int64\n",
       "comment                       object\n",
       "payment_type                  object\n",
       "dtype: object"
      ]
     },
     "execution_count": 143,
     "metadata": {},
     "output_type": "execute_result"
    }
   ],
   "source": [
    "all_sales.dtypes"
   ]
  },
  {
   "cell_type": "markdown",
   "metadata": {},
   "source": [
    "drop irrelevant colomns of the data set"
   ]
  },
  {
   "cell_type": "code",
   "execution_count": 144,
   "metadata": {},
   "outputs": [],
   "source": [
    "all_sales = all_sales.drop(['discount_percent','comment','customer_id','employee_id'],axis = 1 )"
   ]
  },
  {
   "cell_type": "code",
   "execution_count": 145,
   "metadata": {},
   "outputs": [
    {
     "data": {
      "text/html": [
       "<div>\n",
       "<style scoped>\n",
       "    .dataframe tbody tr th:only-of-type {\n",
       "        vertical-align: middle;\n",
       "    }\n",
       "\n",
       "    .dataframe tbody tr th {\n",
       "        vertical-align: top;\n",
       "    }\n",
       "\n",
       "    .dataframe thead th {\n",
       "        text-align: right;\n",
       "    }\n",
       "</style>\n",
       "<table border=\"1\" class=\"dataframe\">\n",
       "  <thead>\n",
       "    <tr style=\"text-align: right;\">\n",
       "      <th></th>\n",
       "      <th>sale_id</th>\n",
       "      <th>item_id</th>\n",
       "      <th>quantity_purchased</th>\n",
       "      <th>item_cost_price</th>\n",
       "      <th>item_unit_price</th>\n",
       "      <th>sale_time</th>\n",
       "      <th>payment_type</th>\n",
       "    </tr>\n",
       "  </thead>\n",
       "  <tbody>\n",
       "    <tr>\n",
       "      <th>16</th>\n",
       "      <td>9</td>\n",
       "      <td>1</td>\n",
       "      <td>-1</td>\n",
       "      <td>94.00</td>\n",
       "      <td>130.0</td>\n",
       "      <td>2020-07-05 13:14:09</td>\n",
       "      <td>Cash</td>\n",
       "    </tr>\n",
       "    <tr>\n",
       "      <th>553</th>\n",
       "      <td>427</td>\n",
       "      <td>112</td>\n",
       "      <td>-1</td>\n",
       "      <td>100.00</td>\n",
       "      <td>150.0</td>\n",
       "      <td>2020-07-21 17:06:00</td>\n",
       "      <td>Cash</td>\n",
       "    </tr>\n",
       "    <tr>\n",
       "      <th>575</th>\n",
       "      <td>445</td>\n",
       "      <td>97</td>\n",
       "      <td>-1</td>\n",
       "      <td>45.00</td>\n",
       "      <td>100.0</td>\n",
       "      <td>2020-07-22 15:55:31</td>\n",
       "      <td>Cash</td>\n",
       "    </tr>\n",
       "    <tr>\n",
       "      <th>751</th>\n",
       "      <td>592</td>\n",
       "      <td>97</td>\n",
       "      <td>-2</td>\n",
       "      <td>45.00</td>\n",
       "      <td>100.0</td>\n",
       "      <td>2020-08-13 07:56:57</td>\n",
       "      <td>Cash</td>\n",
       "    </tr>\n",
       "    <tr>\n",
       "      <th>784</th>\n",
       "      <td>621</td>\n",
       "      <td>48</td>\n",
       "      <td>-1</td>\n",
       "      <td>33.50</td>\n",
       "      <td>50.0</td>\n",
       "      <td>2020-08-13 17:34:06</td>\n",
       "      <td>Cash</td>\n",
       "    </tr>\n",
       "    <tr>\n",
       "      <th>...</th>\n",
       "      <td>...</td>\n",
       "      <td>...</td>\n",
       "      <td>...</td>\n",
       "      <td>...</td>\n",
       "      <td>...</td>\n",
       "      <td>...</td>\n",
       "      <td>...</td>\n",
       "    </tr>\n",
       "    <tr>\n",
       "      <th>118287</th>\n",
       "      <td>80083</td>\n",
       "      <td>4</td>\n",
       "      <td>-2</td>\n",
       "      <td>114.20</td>\n",
       "      <td>120.0</td>\n",
       "      <td>2022-01-27 17:35:31</td>\n",
       "      <td>Cash</td>\n",
       "    </tr>\n",
       "    <tr>\n",
       "      <th>118490</th>\n",
       "      <td>80236</td>\n",
       "      <td>480</td>\n",
       "      <td>-1</td>\n",
       "      <td>32.00</td>\n",
       "      <td>50.0</td>\n",
       "      <td>2022-01-30 13:28:42</td>\n",
       "      <td>Cash</td>\n",
       "    </tr>\n",
       "    <tr>\n",
       "      <th>119550</th>\n",
       "      <td>80982</td>\n",
       "      <td>1006</td>\n",
       "      <td>-1</td>\n",
       "      <td>541.66</td>\n",
       "      <td>580.0</td>\n",
       "      <td>2022-02-08 17:56:50</td>\n",
       "      <td>Cash</td>\n",
       "    </tr>\n",
       "    <tr>\n",
       "      <th>119914</th>\n",
       "      <td>81235</td>\n",
       "      <td>289</td>\n",
       "      <td>-500</td>\n",
       "      <td>0.90</td>\n",
       "      <td>1.0</td>\n",
       "      <td>2022-02-11 15:01:43</td>\n",
       "      <td>Cash</td>\n",
       "    </tr>\n",
       "    <tr>\n",
       "      <th>120043</th>\n",
       "      <td>81332</td>\n",
       "      <td>1019</td>\n",
       "      <td>-1</td>\n",
       "      <td>75.00</td>\n",
       "      <td>80.0</td>\n",
       "      <td>2022-02-12 11:17:05</td>\n",
       "      <td>Cash</td>\n",
       "    </tr>\n",
       "  </tbody>\n",
       "</table>\n",
       "<p>573 rows × 7 columns</p>\n",
       "</div>"
      ],
      "text/plain": [
       "        sale_id  item_id  quantity_purchased  item_cost_price  \\\n",
       "16            9        1                  -1            94.00   \n",
       "553         427      112                  -1           100.00   \n",
       "575         445       97                  -1            45.00   \n",
       "751         592       97                  -2            45.00   \n",
       "784         621       48                  -1            33.50   \n",
       "...         ...      ...                 ...              ...   \n",
       "118287    80083        4                  -2           114.20   \n",
       "118490    80236      480                  -1            32.00   \n",
       "119550    80982     1006                  -1           541.66   \n",
       "119914    81235      289                -500             0.90   \n",
       "120043    81332     1019                  -1            75.00   \n",
       "\n",
       "        item_unit_price           sale_time payment_type  \n",
       "16                130.0 2020-07-05 13:14:09         Cash  \n",
       "553               150.0 2020-07-21 17:06:00         Cash  \n",
       "575               100.0 2020-07-22 15:55:31         Cash  \n",
       "751               100.0 2020-08-13 07:56:57         Cash  \n",
       "784                50.0 2020-08-13 17:34:06         Cash  \n",
       "...                 ...                 ...          ...  \n",
       "118287            120.0 2022-01-27 17:35:31         Cash  \n",
       "118490             50.0 2022-01-30 13:28:42         Cash  \n",
       "119550            580.0 2022-02-08 17:56:50         Cash  \n",
       "119914              1.0 2022-02-11 15:01:43         Cash  \n",
       "120043             80.0 2022-02-12 11:17:05         Cash  \n",
       "\n",
       "[573 rows x 7 columns]"
      ]
     },
     "execution_count": 145,
     "metadata": {},
     "output_type": "execute_result"
    }
   ],
   "source": [
    "all_sales[all_sales.quantity_purchased < 0]"
   ]
  },
  {
   "cell_type": "markdown",
   "metadata": {},
   "source": [
    "573 items were returned"
   ]
  },
  {
   "cell_type": "code",
   "execution_count": 146,
   "metadata": {},
   "outputs": [],
   "source": [
    "\n",
    "# item cost price is reater tan item sellin price\n",
    "n_price = all_sales[all_sales.item_cost_price > all_sales.item_unit_price]\n",
    "\n",
    "\n",
    "# item cost price is less tan item sellin price\n",
    "t_price = all_sales[all_sales.item_cost_price < all_sales.item_unit_price]"
   ]
  },
  {
   "cell_type": "code",
   "execution_count": 147,
   "metadata": {},
   "outputs": [
    {
     "data": {
      "text/plain": [
       "item_id\n",
       "94      53\n",
       "95      50\n",
       "214      1\n",
       "284     17\n",
       "392     13\n",
       "399     11\n",
       "438      2\n",
       "466      1\n",
       "546      1\n",
       "608      1\n",
       "609      1\n",
       "817      7\n",
       "834     11\n",
       "876      3\n",
       "1006     3\n",
       "1074     1\n",
       "1110    11\n",
       "Name: quantity_purchased, dtype: int64"
      ]
     },
     "execution_count": 147,
     "metadata": {},
     "output_type": "execute_result"
    }
   ],
   "source": [
    "n_price.groupby('item_id')['quantity_purchased'].count()"
   ]
  },
  {
   "cell_type": "markdown",
   "metadata": {},
   "source": [
    "14 items were  item unit and cost price was wonly entered in the system "
   ]
  },
  {
   "cell_type": "markdown",
   "metadata": {},
   "source": [
    "3 items unit cost price were wronly entered"
   ]
  },
  {
   "cell_type": "code",
   "execution_count": 148,
   "metadata": {},
   "outputs": [
    {
     "data": {
      "text/html": [
       "<div>\n",
       "<style scoped>\n",
       "    .dataframe tbody tr th:only-of-type {\n",
       "        vertical-align: middle;\n",
       "    }\n",
       "\n",
       "    .dataframe tbody tr th {\n",
       "        vertical-align: top;\n",
       "    }\n",
       "\n",
       "    .dataframe thead th {\n",
       "        text-align: right;\n",
       "    }\n",
       "</style>\n",
       "<table border=\"1\" class=\"dataframe\">\n",
       "  <thead>\n",
       "    <tr style=\"text-align: right;\">\n",
       "      <th></th>\n",
       "      <th>sale_id</th>\n",
       "      <th>item_id</th>\n",
       "      <th>quantity_purchased</th>\n",
       "      <th>item_cost_price</th>\n",
       "      <th>item_unit_price</th>\n",
       "      <th>sale_time</th>\n",
       "      <th>payment_type</th>\n",
       "    </tr>\n",
       "  </thead>\n",
       "  <tbody>\n",
       "    <tr>\n",
       "      <th>41774</th>\n",
       "      <td>27742</td>\n",
       "      <td>1110</td>\n",
       "      <td>1</td>\n",
       "      <td>288.0</td>\n",
       "      <td>223.0</td>\n",
       "      <td>2021-01-31 12:17:14</td>\n",
       "      <td>Cash</td>\n",
       "    </tr>\n",
       "    <tr>\n",
       "      <th>42186</th>\n",
       "      <td>28004</td>\n",
       "      <td>1110</td>\n",
       "      <td>1</td>\n",
       "      <td>288.0</td>\n",
       "      <td>223.0</td>\n",
       "      <td>2021-02-01 14:46:24</td>\n",
       "      <td>MPESA</td>\n",
       "    </tr>\n",
       "    <tr>\n",
       "      <th>47228</th>\n",
       "      <td>31126</td>\n",
       "      <td>1110</td>\n",
       "      <td>1</td>\n",
       "      <td>288.0</td>\n",
       "      <td>223.0</td>\n",
       "      <td>2021-02-16 17:40:55</td>\n",
       "      <td>MPESA</td>\n",
       "    </tr>\n",
       "    <tr>\n",
       "      <th>50652</th>\n",
       "      <td>33270</td>\n",
       "      <td>1110</td>\n",
       "      <td>1</td>\n",
       "      <td>288.0</td>\n",
       "      <td>223.0</td>\n",
       "      <td>2021-02-27 14:53:30</td>\n",
       "      <td>Cash</td>\n",
       "    </tr>\n",
       "    <tr>\n",
       "      <th>59155</th>\n",
       "      <td>38874</td>\n",
       "      <td>1110</td>\n",
       "      <td>1</td>\n",
       "      <td>288.0</td>\n",
       "      <td>223.0</td>\n",
       "      <td>2021-03-25 17:46:18</td>\n",
       "      <td>MPESA</td>\n",
       "    </tr>\n",
       "    <tr>\n",
       "      <th>63923</th>\n",
       "      <td>41991</td>\n",
       "      <td>1110</td>\n",
       "      <td>1</td>\n",
       "      <td>288.0</td>\n",
       "      <td>223.0</td>\n",
       "      <td>2021-04-12 14:48:18</td>\n",
       "      <td>MPESA</td>\n",
       "    </tr>\n",
       "    <tr>\n",
       "      <th>80264</th>\n",
       "      <td>52934</td>\n",
       "      <td>1110</td>\n",
       "      <td>1</td>\n",
       "      <td>288.0</td>\n",
       "      <td>223.0</td>\n",
       "      <td>2021-06-07 14:15:05</td>\n",
       "      <td>MPESA</td>\n",
       "    </tr>\n",
       "    <tr>\n",
       "      <th>88297</th>\n",
       "      <td>58463</td>\n",
       "      <td>1110</td>\n",
       "      <td>1</td>\n",
       "      <td>288.0</td>\n",
       "      <td>223.0</td>\n",
       "      <td>2021-07-09 16:47:01</td>\n",
       "      <td>Cash</td>\n",
       "    </tr>\n",
       "    <tr>\n",
       "      <th>88933</th>\n",
       "      <td>58898</td>\n",
       "      <td>1110</td>\n",
       "      <td>1</td>\n",
       "      <td>288.0</td>\n",
       "      <td>223.0</td>\n",
       "      <td>2021-07-12 16:03:39</td>\n",
       "      <td>Cash</td>\n",
       "    </tr>\n",
       "    <tr>\n",
       "      <th>107085</th>\n",
       "      <td>71973</td>\n",
       "      <td>1110</td>\n",
       "      <td>1</td>\n",
       "      <td>288.0</td>\n",
       "      <td>223.0</td>\n",
       "      <td>2021-10-22 02:56:14</td>\n",
       "      <td>MPESA</td>\n",
       "    </tr>\n",
       "    <tr>\n",
       "      <th>117665</th>\n",
       "      <td>79628</td>\n",
       "      <td>1110</td>\n",
       "      <td>1</td>\n",
       "      <td>288.0</td>\n",
       "      <td>223.0</td>\n",
       "      <td>2022-01-21 09:25:13</td>\n",
       "      <td>Cash</td>\n",
       "    </tr>\n",
       "  </tbody>\n",
       "</table>\n",
       "</div>"
      ],
      "text/plain": [
       "        sale_id  item_id  quantity_purchased  item_cost_price  \\\n",
       "41774     27742     1110                   1            288.0   \n",
       "42186     28004     1110                   1            288.0   \n",
       "47228     31126     1110                   1            288.0   \n",
       "50652     33270     1110                   1            288.0   \n",
       "59155     38874     1110                   1            288.0   \n",
       "63923     41991     1110                   1            288.0   \n",
       "80264     52934     1110                   1            288.0   \n",
       "88297     58463     1110                   1            288.0   \n",
       "88933     58898     1110                   1            288.0   \n",
       "107085    71973     1110                   1            288.0   \n",
       "117665    79628     1110                   1            288.0   \n",
       "\n",
       "        item_unit_price           sale_time payment_type  \n",
       "41774             223.0 2021-01-31 12:17:14         Cash  \n",
       "42186             223.0 2021-02-01 14:46:24        MPESA  \n",
       "47228             223.0 2021-02-16 17:40:55        MPESA  \n",
       "50652             223.0 2021-02-27 14:53:30         Cash  \n",
       "59155             223.0 2021-03-25 17:46:18        MPESA  \n",
       "63923             223.0 2021-04-12 14:48:18        MPESA  \n",
       "80264             223.0 2021-06-07 14:15:05        MPESA  \n",
       "88297             223.0 2021-07-09 16:47:01         Cash  \n",
       "88933             223.0 2021-07-12 16:03:39         Cash  \n",
       "107085            223.0 2021-10-22 02:56:14        MPESA  \n",
       "117665            223.0 2022-01-21 09:25:13         Cash  "
      ]
     },
     "execution_count": 148,
     "metadata": {},
     "output_type": "execute_result"
    }
   ],
   "source": [
    "n_price[n_price.item_id == 1110]"
   ]
  },
  {
   "cell_type": "code",
   "execution_count": 149,
   "metadata": {},
   "outputs": [],
   "source": [
    "i834 = n_price[n_price.item_id == 834]\n",
    "n_i834 = n_price[n_price.item_id != 834]"
   ]
  },
  {
   "cell_type": "code",
   "execution_count": 150,
   "metadata": {},
   "outputs": [
    {
     "name": "stderr",
     "output_type": "stream",
     "text": [
      "C:\\Users\\mickn\\AppData\\Local\\Temp\\ipykernel_16752\\2792711725.py:1: SettingWithCopyWarning: \n",
      "A value is trying to be set on a copy of a slice from a DataFrame.\n",
      "Try using .loc[row_indexer,col_indexer] = value instead\n",
      "\n",
      "See the caveats in the documentation: https://pandas.pydata.org/pandas-docs/stable/user_guide/indexing.html#returning-a-view-versus-a-copy\n",
      "  i834.item_cost_price = 45.0\n"
     ]
    }
   ],
   "source": [
    "i834.item_cost_price = 45.0"
   ]
  },
  {
   "cell_type": "code",
   "execution_count": 151,
   "metadata": {},
   "outputs": [],
   "source": [
    "n_price = pd.concat([n_i834,i834])"
   ]
  },
  {
   "cell_type": "code",
   "execution_count": 152,
   "metadata": {},
   "outputs": [
    {
     "data": {
      "text/html": [
       "<div>\n",
       "<style scoped>\n",
       "    .dataframe tbody tr th:only-of-type {\n",
       "        vertical-align: middle;\n",
       "    }\n",
       "\n",
       "    .dataframe tbody tr th {\n",
       "        vertical-align: top;\n",
       "    }\n",
       "\n",
       "    .dataframe thead th {\n",
       "        text-align: right;\n",
       "    }\n",
       "</style>\n",
       "<table border=\"1\" class=\"dataframe\">\n",
       "  <thead>\n",
       "    <tr style=\"text-align: right;\">\n",
       "      <th></th>\n",
       "      <th>sale_id</th>\n",
       "      <th>item_id</th>\n",
       "      <th>quantity_purchased</th>\n",
       "      <th>item_cost_price</th>\n",
       "      <th>item_unit_price</th>\n",
       "      <th>sale_time</th>\n",
       "      <th>payment_type</th>\n",
       "    </tr>\n",
       "  </thead>\n",
       "  <tbody>\n",
       "    <tr>\n",
       "      <th>4</th>\n",
       "      <td>3</td>\n",
       "      <td>1</td>\n",
       "      <td>1</td>\n",
       "      <td>94.00</td>\n",
       "      <td>130.0</td>\n",
       "      <td>2020-07-05 12:42:15</td>\n",
       "      <td>Cash</td>\n",
       "    </tr>\n",
       "    <tr>\n",
       "      <th>5</th>\n",
       "      <td>3</td>\n",
       "      <td>2</td>\n",
       "      <td>1</td>\n",
       "      <td>109.00</td>\n",
       "      <td>120.0</td>\n",
       "      <td>2020-07-05 12:42:15</td>\n",
       "      <td>Cash</td>\n",
       "    </tr>\n",
       "    <tr>\n",
       "      <th>6</th>\n",
       "      <td>4</td>\n",
       "      <td>1</td>\n",
       "      <td>3</td>\n",
       "      <td>94.00</td>\n",
       "      <td>130.0</td>\n",
       "      <td>2020-07-05 12:52:46</td>\n",
       "      <td>Cash</td>\n",
       "    </tr>\n",
       "    <tr>\n",
       "      <th>7</th>\n",
       "      <td>4</td>\n",
       "      <td>2</td>\n",
       "      <td>2</td>\n",
       "      <td>109.00</td>\n",
       "      <td>120.0</td>\n",
       "      <td>2020-07-05 12:52:46</td>\n",
       "      <td>Cash</td>\n",
       "    </tr>\n",
       "    <tr>\n",
       "      <th>8</th>\n",
       "      <td>5</td>\n",
       "      <td>1</td>\n",
       "      <td>1</td>\n",
       "      <td>94.00</td>\n",
       "      <td>130.0</td>\n",
       "      <td>2020-07-05 12:54:43</td>\n",
       "      <td>Cash</td>\n",
       "    </tr>\n",
       "    <tr>\n",
       "      <th>...</th>\n",
       "      <td>...</td>\n",
       "      <td>...</td>\n",
       "      <td>...</td>\n",
       "      <td>...</td>\n",
       "      <td>...</td>\n",
       "      <td>...</td>\n",
       "      <td>...</td>\n",
       "    </tr>\n",
       "    <tr>\n",
       "      <th>120170</th>\n",
       "      <td>81421</td>\n",
       "      <td>1431</td>\n",
       "      <td>1</td>\n",
       "      <td>9.00</td>\n",
       "      <td>10.0</td>\n",
       "      <td>2022-02-12 18:06:47</td>\n",
       "      <td>Cash</td>\n",
       "    </tr>\n",
       "    <tr>\n",
       "      <th>120171</th>\n",
       "      <td>81422</td>\n",
       "      <td>973</td>\n",
       "      <td>1</td>\n",
       "      <td>3.60</td>\n",
       "      <td>5.0</td>\n",
       "      <td>2022-02-12 18:11:13</td>\n",
       "      <td>Cash</td>\n",
       "    </tr>\n",
       "    <tr>\n",
       "      <th>120172</th>\n",
       "      <td>81423</td>\n",
       "      <td>1433</td>\n",
       "      <td>1</td>\n",
       "      <td>4.00</td>\n",
       "      <td>5.0</td>\n",
       "      <td>2022-02-12 18:16:18</td>\n",
       "      <td>MPESA</td>\n",
       "    </tr>\n",
       "    <tr>\n",
       "      <th>120173</th>\n",
       "      <td>81428</td>\n",
       "      <td>41</td>\n",
       "      <td>4</td>\n",
       "      <td>4.05</td>\n",
       "      <td>7.5</td>\n",
       "      <td>2022-02-12 18:28:03</td>\n",
       "      <td>Cash</td>\n",
       "    </tr>\n",
       "    <tr>\n",
       "      <th>120174</th>\n",
       "      <td>81428</td>\n",
       "      <td>1402</td>\n",
       "      <td>1</td>\n",
       "      <td>14.00</td>\n",
       "      <td>20.0</td>\n",
       "      <td>2022-02-12 18:28:03</td>\n",
       "      <td>Cash</td>\n",
       "    </tr>\n",
       "  </tbody>\n",
       "</table>\n",
       "<p>120139 rows × 7 columns</p>\n",
       "</div>"
      ],
      "text/plain": [
       "        sale_id  item_id  quantity_purchased  item_cost_price  \\\n",
       "4             3        1                   1            94.00   \n",
       "5             3        2                   1           109.00   \n",
       "6             4        1                   3            94.00   \n",
       "7             4        2                   2           109.00   \n",
       "8             5        1                   1            94.00   \n",
       "...         ...      ...                 ...              ...   \n",
       "120170    81421     1431                   1             9.00   \n",
       "120171    81422      973                   1             3.60   \n",
       "120172    81423     1433                   1             4.00   \n",
       "120173    81428       41                   4             4.05   \n",
       "120174    81428     1402                   1            14.00   \n",
       "\n",
       "        item_unit_price           sale_time payment_type  \n",
       "4                 130.0 2020-07-05 12:42:15         Cash  \n",
       "5                 120.0 2020-07-05 12:42:15         Cash  \n",
       "6                 130.0 2020-07-05 12:52:46         Cash  \n",
       "7                 120.0 2020-07-05 12:52:46         Cash  \n",
       "8                 130.0 2020-07-05 12:54:43         Cash  \n",
       "...                 ...                 ...          ...  \n",
       "120170             10.0 2022-02-12 18:06:47         Cash  \n",
       "120171              5.0 2022-02-12 18:11:13         Cash  \n",
       "120172              5.0 2022-02-12 18:16:18        MPESA  \n",
       "120173              7.5 2022-02-12 18:28:03         Cash  \n",
       "120174             20.0 2022-02-12 18:28:03         Cash  \n",
       "\n",
       "[120139 rows x 7 columns]"
      ]
     },
     "execution_count": 152,
     "metadata": {},
     "output_type": "execute_result"
    }
   ],
   "source": [
    "all_sales"
   ]
  },
  {
   "cell_type": "code",
   "execution_count": 153,
   "metadata": {},
   "outputs": [],
   "source": [
    "i438 = n_price[n_price.item_id == 438]\n",
    "n_i438 = n_price[n_price.item_id != 438]"
   ]
  },
  {
   "cell_type": "code",
   "execution_count": 154,
   "metadata": {},
   "outputs": [
    {
     "name": "stderr",
     "output_type": "stream",
     "text": [
      "C:\\Users\\mickn\\AppData\\Local\\Temp\\ipykernel_16752\\2257334176.py:1: SettingWithCopyWarning: \n",
      "A value is trying to be set on a copy of a slice from a DataFrame.\n",
      "Try using .loc[row_indexer,col_indexer] = value instead\n",
      "\n",
      "See the caveats in the documentation: https://pandas.pydata.org/pandas-docs/stable/user_guide/indexing.html#returning-a-view-versus-a-copy\n",
      "  i438.item_cost_price = 35.0\n"
     ]
    }
   ],
   "source": [
    "i438.item_cost_price = 35.0"
   ]
  },
  {
   "cell_type": "code",
   "execution_count": 155,
   "metadata": {},
   "outputs": [],
   "source": [
    "n_price = pd.concat([n_i438,i438])"
   ]
  },
  {
   "cell_type": "code",
   "execution_count": 156,
   "metadata": {},
   "outputs": [],
   "source": [
    "i1006 = n_price[n_price.item_id == 1006]\n",
    "n_i1006 = n_price[n_price.item_id != 1006]"
   ]
  },
  {
   "cell_type": "code",
   "execution_count": 157,
   "metadata": {},
   "outputs": [
    {
     "name": "stderr",
     "output_type": "stream",
     "text": [
      "C:\\Users\\mickn\\AppData\\Local\\Temp\\ipykernel_16752\\2669379045.py:1: SettingWithCopyWarning: \n",
      "A value is trying to be set on a copy of a slice from a DataFrame\n",
      "\n",
      "See the caveats in the documentation: https://pandas.pydata.org/pandas-docs/stable/user_guide/indexing.html#returning-a-view-versus-a-copy\n",
      "  i1006.item_cost_price.replace(55000.0 , 550.0 , inplace=True)\n"
     ]
    }
   ],
   "source": [
    "i1006.item_cost_price.replace(55000.0 , 550.0 , inplace=True)"
   ]
  },
  {
   "cell_type": "code",
   "execution_count": 158,
   "metadata": {},
   "outputs": [],
   "source": [
    "n_price = pd.concat([n_i1006,i1006])"
   ]
  },
  {
   "cell_type": "code",
   "execution_count": 159,
   "metadata": {},
   "outputs": [],
   "source": [
    "r_n_price = n_price[n_price.item_cost_price > n_price.item_unit_price]\n",
    "n_price = n_price[n_price.item_cost_price < n_price.item_unit_price]"
   ]
  },
  {
   "cell_type": "code",
   "execution_count": 160,
   "metadata": {},
   "outputs": [],
   "source": [
    "a_price = r_n_price.copy()"
   ]
  },
  {
   "cell_type": "code",
   "execution_count": 161,
   "metadata": {},
   "outputs": [],
   "source": [
    "r_n_price.item_cost_price = a_price.item_unit_price\n",
    "r_n_price.item_unit_price = a_price.item_cost_price"
   ]
  },
  {
   "cell_type": "code",
   "execution_count": 162,
   "metadata": {},
   "outputs": [],
   "source": [
    "n_price = pd.concat([n_price, r_n_price])"
   ]
  },
  {
   "cell_type": "code",
   "execution_count": 163,
   "metadata": {},
   "outputs": [],
   "source": [
    "all_sales = pd.concat([t_price , n_price])"
   ]
  },
  {
   "cell_type": "code",
   "execution_count": 164,
   "metadata": {},
   "outputs": [
    {
     "data": {
      "text/html": [
       "<div>\n",
       "<style scoped>\n",
       "    .dataframe tbody tr th:only-of-type {\n",
       "        vertical-align: middle;\n",
       "    }\n",
       "\n",
       "    .dataframe tbody tr th {\n",
       "        vertical-align: top;\n",
       "    }\n",
       "\n",
       "    .dataframe thead th {\n",
       "        text-align: right;\n",
       "    }\n",
       "</style>\n",
       "<table border=\"1\" class=\"dataframe\">\n",
       "  <thead>\n",
       "    <tr style=\"text-align: right;\">\n",
       "      <th></th>\n",
       "      <th>sale_id</th>\n",
       "      <th>item_id</th>\n",
       "      <th>quantity_purchased</th>\n",
       "      <th>item_cost_price</th>\n",
       "      <th>item_unit_price</th>\n",
       "      <th>sale_time</th>\n",
       "      <th>payment_type</th>\n",
       "    </tr>\n",
       "  </thead>\n",
       "  <tbody>\n",
       "    <tr>\n",
       "      <th>4</th>\n",
       "      <td>3</td>\n",
       "      <td>1</td>\n",
       "      <td>1</td>\n",
       "      <td>94.0</td>\n",
       "      <td>130.0</td>\n",
       "      <td>2020-07-05 12:42:15</td>\n",
       "      <td>Cash</td>\n",
       "    </tr>\n",
       "    <tr>\n",
       "      <th>5</th>\n",
       "      <td>3</td>\n",
       "      <td>2</td>\n",
       "      <td>1</td>\n",
       "      <td>109.0</td>\n",
       "      <td>120.0</td>\n",
       "      <td>2020-07-05 12:42:15</td>\n",
       "      <td>Cash</td>\n",
       "    </tr>\n",
       "    <tr>\n",
       "      <th>6</th>\n",
       "      <td>4</td>\n",
       "      <td>1</td>\n",
       "      <td>3</td>\n",
       "      <td>94.0</td>\n",
       "      <td>130.0</td>\n",
       "      <td>2020-07-05 12:52:46</td>\n",
       "      <td>Cash</td>\n",
       "    </tr>\n",
       "    <tr>\n",
       "      <th>7</th>\n",
       "      <td>4</td>\n",
       "      <td>2</td>\n",
       "      <td>2</td>\n",
       "      <td>109.0</td>\n",
       "      <td>120.0</td>\n",
       "      <td>2020-07-05 12:52:46</td>\n",
       "      <td>Cash</td>\n",
       "    </tr>\n",
       "    <tr>\n",
       "      <th>8</th>\n",
       "      <td>5</td>\n",
       "      <td>1</td>\n",
       "      <td>1</td>\n",
       "      <td>94.0</td>\n",
       "      <td>130.0</td>\n",
       "      <td>2020-07-05 12:54:43</td>\n",
       "      <td>Cash</td>\n",
       "    </tr>\n",
       "    <tr>\n",
       "      <th>...</th>\n",
       "      <td>...</td>\n",
       "      <td>...</td>\n",
       "      <td>...</td>\n",
       "      <td>...</td>\n",
       "      <td>...</td>\n",
       "      <td>...</td>\n",
       "      <td>...</td>\n",
       "    </tr>\n",
       "    <tr>\n",
       "      <th>88297</th>\n",
       "      <td>58463</td>\n",
       "      <td>1110</td>\n",
       "      <td>1</td>\n",
       "      <td>223.0</td>\n",
       "      <td>288.0</td>\n",
       "      <td>2021-07-09 16:47:01</td>\n",
       "      <td>Cash</td>\n",
       "    </tr>\n",
       "    <tr>\n",
       "      <th>88933</th>\n",
       "      <td>58898</td>\n",
       "      <td>1110</td>\n",
       "      <td>1</td>\n",
       "      <td>223.0</td>\n",
       "      <td>288.0</td>\n",
       "      <td>2021-07-12 16:03:39</td>\n",
       "      <td>Cash</td>\n",
       "    </tr>\n",
       "    <tr>\n",
       "      <th>107085</th>\n",
       "      <td>71973</td>\n",
       "      <td>1110</td>\n",
       "      <td>1</td>\n",
       "      <td>223.0</td>\n",
       "      <td>288.0</td>\n",
       "      <td>2021-10-22 02:56:14</td>\n",
       "      <td>MPESA</td>\n",
       "    </tr>\n",
       "    <tr>\n",
       "      <th>117665</th>\n",
       "      <td>79628</td>\n",
       "      <td>1110</td>\n",
       "      <td>1</td>\n",
       "      <td>223.0</td>\n",
       "      <td>288.0</td>\n",
       "      <td>2022-01-21 09:25:13</td>\n",
       "      <td>Cash</td>\n",
       "    </tr>\n",
       "    <tr>\n",
       "      <th>118937</th>\n",
       "      <td>80566</td>\n",
       "      <td>1074</td>\n",
       "      <td>1</td>\n",
       "      <td>265.0</td>\n",
       "      <td>297.0</td>\n",
       "      <td>2022-02-03 16:51:17</td>\n",
       "      <td>Cash</td>\n",
       "    </tr>\n",
       "  </tbody>\n",
       "</table>\n",
       "<p>120087 rows × 7 columns</p>\n",
       "</div>"
      ],
      "text/plain": [
       "        sale_id  item_id  quantity_purchased  item_cost_price  \\\n",
       "4             3        1                   1             94.0   \n",
       "5             3        2                   1            109.0   \n",
       "6             4        1                   3             94.0   \n",
       "7             4        2                   2            109.0   \n",
       "8             5        1                   1             94.0   \n",
       "...         ...      ...                 ...              ...   \n",
       "88297     58463     1110                   1            223.0   \n",
       "88933     58898     1110                   1            223.0   \n",
       "107085    71973     1110                   1            223.0   \n",
       "117665    79628     1110                   1            223.0   \n",
       "118937    80566     1074                   1            265.0   \n",
       "\n",
       "        item_unit_price           sale_time payment_type  \n",
       "4                 130.0 2020-07-05 12:42:15         Cash  \n",
       "5                 120.0 2020-07-05 12:42:15         Cash  \n",
       "6                 130.0 2020-07-05 12:52:46         Cash  \n",
       "7                 120.0 2020-07-05 12:52:46         Cash  \n",
       "8                 130.0 2020-07-05 12:54:43         Cash  \n",
       "...                 ...                 ...          ...  \n",
       "88297             288.0 2021-07-09 16:47:01         Cash  \n",
       "88933             288.0 2021-07-12 16:03:39         Cash  \n",
       "107085            288.0 2021-10-22 02:56:14        MPESA  \n",
       "117665            288.0 2022-01-21 09:25:13         Cash  \n",
       "118937            297.0 2022-02-03 16:51:17         Cash  \n",
       "\n",
       "[120087 rows x 7 columns]"
      ]
     },
     "execution_count": 164,
     "metadata": {},
     "output_type": "execute_result"
    }
   ],
   "source": [
    "all_sales.drop_duplicates()"
   ]
  },
  {
   "cell_type": "code",
   "execution_count": 165,
   "metadata": {},
   "outputs": [],
   "source": [
    "all_sales.to_csv('pos_sales.csv' , index = False)"
   ]
  },
  {
   "cell_type": "markdown",
   "metadata": {},
   "source": [
    "## Feature engineering"
   ]
  },
  {
   "cell_type": "code",
   "execution_count": 166,
   "metadata": {},
   "outputs": [],
   "source": [
    "pos_sales = pd.read_csv('pos_sales.csv')"
   ]
  },
  {
   "cell_type": "code",
   "execution_count": 167,
   "metadata": {},
   "outputs": [],
   "source": [
    "pos_sales['total_buyin_p'] = pos_sales.quantity_purchased * pos_sales.item_cost_price\n",
    "pos_sales['total_sellin_p'] = pos_sales.quantity_purchased * pos_sales.item_unit_price\n",
    "pos_sales['profit'] = pos_sales.total_sellin_p - pos_sales.total_buyin_p"
   ]
  },
  {
   "cell_type": "code",
   "execution_count": 168,
   "metadata": {},
   "outputs": [],
   "source": [
    "pos_sales.sale_time = pd.to_datetime(pos_sales.sale_time,format = '%Y-%m-%d %H:%M')"
   ]
  },
  {
   "cell_type": "code",
   "execution_count": 169,
   "metadata": {},
   "outputs": [],
   "source": [
    "pos_sales['year'] = pos_sales['sale_time'].dt.year\n",
    "pos_sales['month'] = pos_sales['sale_time'].dt.month\n",
    "\n",
    "pos_sales['day'] = pos_sales['sale_time'].dt.day\n",
    "pos_sales['dayofweek'] = pos_sales['sale_time'].dt.dayofweek\n",
    "pos_sales['hour'] = pos_sales['sale_time'].dt.hour"
   ]
  },
  {
   "cell_type": "code",
   "execution_count": 170,
   "metadata": {},
   "outputs": [],
   "source": [
    "pos_sales.payment_type.replace('Cash' , 0 , inplace=True)\n",
    "pos_sales.payment_type.replace('MPESA' , 1 , inplace=True)"
   ]
  },
  {
   "cell_type": "code",
   "execution_count": 171,
   "metadata": {},
   "outputs": [],
   "source": [
    "pos_sales = pos_sales.drop(['sale_time','sale_id'],axis = 1)"
   ]
  },
  {
   "cell_type": "code",
   "execution_count": 172,
   "metadata": {},
   "outputs": [],
   "source": [
    "pos_sales.to_csv('pos_sales.csv' , index = False)\n"
   ]
  },
  {
   "cell_type": "markdown",
   "metadata": {},
   "source": [
    "## Analysis"
   ]
  },
  {
   "cell_type": "markdown",
   "metadata": {},
   "source": [
    "daily analysis"
   ]
  },
  {
   "cell_type": "code",
   "execution_count": 173,
   "metadata": {},
   "outputs": [
    {
     "data": {
      "text/plain": [
       "<AxesSubplot:xlabel='dayofweek'>"
      ]
     },
     "execution_count": 173,
     "metadata": {},
     "output_type": "execute_result"
    },
    {
     "data": {
      "image/png": "[encoded data removed]",
      "text/plain": [
       "<Figure size 432x288 with 1 Axes>"
      ]
     },
     "metadata": {
      "needs_background": "light"
     },
     "output_type": "display_data"
    }
   ],
   "source": [
    "pos_sales.groupby('dayofweek')['profit'].sum().plot.bar()"
   ]
  },
  {
   "cell_type": "code",
   "execution_count": 174,
   "metadata": {},
   "outputs": [
    {
     "data": {
      "text/plain": [
       "<AxesSubplot:xlabel='dayofweek'>"
      ]
     },
     "execution_count": 174,
     "metadata": {},
     "output_type": "execute_result"
    },
    {
     "data": {
      "image/png": "[encoded data removed]",
      "text/plain": [
       "<Figure size 432x288 with 1 Axes>"
      ]
     },
     "metadata": {
      "needs_background": "light"
     },
     "output_type": "display_data"
    }
   ],
   "source": [
    "pos_sales.groupby('dayofweek')['quantity_purchased'].count().plot.bar()\n"
   ]
  },
  {
   "cell_type": "markdown",
   "metadata": {},
   "source": [
    "monthly analysis"
   ]
  },
  {
   "cell_type": "code",
   "execution_count": 175,
   "metadata": {},
   "outputs": [
    {
     "data": {
      "text/plain": [
       "<AxesSubplot:xlabel='month'>"
      ]
     },
     "execution_count": 175,
     "metadata": {},
     "output_type": "execute_result"
    },
    {
     "data": {
      "image/png": "[encoded data removed]",
      "text/plain": [
       "<Figure size 432x288 with 1 Axes>"
      ]
     },
     "metadata": {
      "needs_background": "light"
     },
     "output_type": "display_data"
    }
   ],
   "source": [
    "pos_sales.groupby('month')['profit'].sum().plot.bar()"
   ]
  },
  {
   "cell_type": "code",
   "execution_count": 176,
   "metadata": {},
   "outputs": [
    {
     "data": {
      "text/plain": [
       "<AxesSubplot:xlabel='month'>"
      ]
     },
     "execution_count": 176,
     "metadata": {},
     "output_type": "execute_result"
    },
    {
     "data": {
      "image/png": "[encoded data removed]",
      "text/plain": [
       "<Figure size 432x288 with 1 Axes>"
      ]
     },
     "metadata": {
      "needs_background": "light"
     },
     "output_type": "display_data"
    }
   ],
   "source": [
    "pos_sales.groupby('month')['quantity_purchased'].count().plot.bar()"
   ]
  },
  {
   "cell_type": "markdown",
   "metadata": {},
   "source": [
    "yearly analysis"
   ]
  },
  {
   "cell_type": "code",
   "execution_count": 177,
   "metadata": {},
   "outputs": [
    {
     "data": {
      "text/plain": [
       "<AxesSubplot:xlabel='month,dayofweek'>"
      ]
     },
     "execution_count": 177,
     "metadata": {},
     "output_type": "execute_result"
    },
    {
     "data": {
      "image/png": "[encoded data removed]",
      "text/plain": [
       "<Figure size 1080x360 with 1 Axes>"
      ]
     },
     "metadata": {
      "needs_background": "light"
     },
     "output_type": "display_data"
    }
   ],
   "source": [
    "pos_sales.groupby(['month','dayofweek'])['profit'].mean().plot(figsize= (15,5))"
   ]
  },
  {
   "cell_type": "code",
   "execution_count": 178,
   "metadata": {},
   "outputs": [
    {
     "data": {
      "text/plain": [
       "<AxesSubplot:xlabel='month,day'>"
      ]
     },
     "execution_count": 178,
     "metadata": {},
     "output_type": "execute_result"
    },
    {
     "data": {
      "image/png": "[encoded data removed]",
      "text/plain": [
       "<Figure size 1080x360 with 1 Axes>"
      ]
     },
     "metadata": {
      "needs_background": "light"
     },
     "output_type": "display_data"
    }
   ],
   "source": [
    "pos_sales.groupby(['month','day'])['quantity_purchased'].mean().plot(figsize= (15 , 5))"
   ]
  },
  {
   "cell_type": "markdown",
   "metadata": {},
   "source": [
    "item analysis"
   ]
  },
  {
   "cell_type": "code",
   "execution_count": 179,
   "metadata": {},
   "outputs": [
    {
     "data": {
      "text/html": [
       "<div>\n",
       "<style scoped>\n",
       "    .dataframe tbody tr th:only-of-type {\n",
       "        vertical-align: middle;\n",
       "    }\n",
       "\n",
       "    .dataframe tbody tr th {\n",
       "        vertical-align: top;\n",
       "    }\n",
       "\n",
       "    .dataframe thead th {\n",
       "        text-align: right;\n",
       "    }\n",
       "</style>\n",
       "<table border=\"1\" class=\"dataframe\">\n",
       "  <thead>\n",
       "    <tr style=\"text-align: right;\">\n",
       "      <th></th>\n",
       "      <th>quantity_purchased</th>\n",
       "    </tr>\n",
       "    <tr>\n",
       "      <th>item_id</th>\n",
       "      <th></th>\n",
       "    </tr>\n",
       "  </thead>\n",
       "  <tbody>\n",
       "    <tr>\n",
       "      <th>1</th>\n",
       "      <td>39</td>\n",
       "    </tr>\n",
       "    <tr>\n",
       "      <th>2</th>\n",
       "      <td>37</td>\n",
       "    </tr>\n",
       "    <tr>\n",
       "      <th>3</th>\n",
       "      <td>375</td>\n",
       "    </tr>\n",
       "    <tr>\n",
       "      <th>4</th>\n",
       "      <td>1831</td>\n",
       "    </tr>\n",
       "    <tr>\n",
       "      <th>5</th>\n",
       "      <td>161</td>\n",
       "    </tr>\n",
       "    <tr>\n",
       "      <th>...</th>\n",
       "      <td>...</td>\n",
       "    </tr>\n",
       "    <tr>\n",
       "      <th>1427</th>\n",
       "      <td>1</td>\n",
       "    </tr>\n",
       "    <tr>\n",
       "      <th>1428</th>\n",
       "      <td>1</td>\n",
       "    </tr>\n",
       "    <tr>\n",
       "      <th>1429</th>\n",
       "      <td>1</td>\n",
       "    </tr>\n",
       "    <tr>\n",
       "      <th>1431</th>\n",
       "      <td>1</td>\n",
       "    </tr>\n",
       "    <tr>\n",
       "      <th>1433</th>\n",
       "      <td>1</td>\n",
       "    </tr>\n",
       "  </tbody>\n",
       "</table>\n",
       "<p>1221 rows × 1 columns</p>\n",
       "</div>"
      ],
      "text/plain": [
       "         quantity_purchased\n",
       "item_id                    \n",
       "1                        39\n",
       "2                        37\n",
       "3                       375\n",
       "4                      1831\n",
       "5                       161\n",
       "...                     ...\n",
       "1427                      1\n",
       "1428                      1\n",
       "1429                      1\n",
       "1431                      1\n",
       "1433                      1\n",
       "\n",
       "[1221 rows x 1 columns]"
      ]
     },
     "execution_count": 179,
     "metadata": {},
     "output_type": "execute_result"
    }
   ],
   "source": [
    "pos_sales.groupby('item_id')['quantity_purchased'].count().to_frame()"
   ]
  },
  {
   "cell_type": "code",
   "execution_count": 180,
   "metadata": {},
   "outputs": [
    {
     "data": {
      "image/png": "[encoded data removed]",
      "text/plain": [
       "<Figure size 648x432 with 2 Axes>"
      ]
     },
     "metadata": {
      "needs_background": "light"
     },
     "output_type": "display_data"
    }
   ],
   "source": [
    "matrix = pos_sales.corr() \n",
    "ax = plt.subplots(figsize=(9,6))\n",
    "sns.heatmap(matrix , vmax = .8, square= True , cmap = 'BuPu');"
   ]
  },
  {
   "cell_type": "markdown",
   "metadata": {},
   "source": [
    "## model"
   ]
  },
  {
   "cell_type": "markdown",
   "metadata": {},
   "source": [
    "split data"
   ]
  },
  {
   "cell_type": "code",
   "execution_count": 181,
   "metadata": {},
   "outputs": [
    {
     "name": "stderr",
     "output_type": "stream",
     "text": [
      "C:\\Users\\mickn\\AppData\\Local\\Programs\\Python\\Python310\\lib\\site-packages\\pandas\\core\\algorithms.py:798: FutureWarning: In a future version, the Index constructor will not infer numeric dtypes when passed object-dtype sequences (matching Series behavior)\n",
      "  uniques = Index(uniques)\n",
      "C:\\Users\\mickn\\AppData\\Local\\Programs\\Python\\Python310\\lib\\site-packages\\pandas\\core\\algorithms.py:798: FutureWarning: In a future version, the Index constructor will not infer numeric dtypes when passed object-dtype sequences (matching Series behavior)\n",
      "  uniques = Index(uniques)\n"
     ]
    },
    {
     "ename": "ValueError",
     "evalue": "Supported target types are: ('binary', 'multiclass'). Got 'continuous' instead.",
     "output_type": "error",
     "traceback": [
      "\u001b[1;31m---------------------------------------------------------------------------\u001b[0m",
      "\u001b[1;31mValueError\u001b[0m                                Traceback (most recent call last)",
      "\u001b[1;32md:\\jiamini-project\\jiamini_project\\model.ipynb Cell 60'\u001b[0m in \u001b[0;36m<cell line: 13>\u001b[1;34m()\u001b[0m\n\u001b[0;32m     <a href='vscode-notebook-cell:/d%3A/jiamini-project/jiamini_project/model.ipynb#ch0000059?line=10'>11</a>\u001b[0m i \u001b[39m=\u001b[39m \u001b[39m1\u001b[39m \n\u001b[0;32m     <a href='vscode-notebook-cell:/d%3A/jiamini-project/jiamini_project/model.ipynb#ch0000059?line=11'>12</a>\u001b[0m kf \u001b[39m=\u001b[39m StratifiedKFold(n_splits\u001b[39m=\u001b[39m\u001b[39m5\u001b[39m,random_state\u001b[39m=\u001b[39m\u001b[39m1\u001b[39m,shuffle\u001b[39m=\u001b[39m\u001b[39mTrue\u001b[39;00m)\n\u001b[1;32m---> <a href='vscode-notebook-cell:/d%3A/jiamini-project/jiamini_project/model.ipynb#ch0000059?line=12'>13</a>\u001b[0m \u001b[39mfor\u001b[39;00m train_index,test_index \u001b[39min\u001b[39;00m kf\u001b[39m.\u001b[39msplit(x , y):\n\u001b[0;32m     <a href='vscode-notebook-cell:/d%3A/jiamini-project/jiamini_project/model.ipynb#ch0000059?line=13'>14</a>\u001b[0m     \u001b[39mprint\u001b[39m(\u001b[39m'\u001b[39m\u001b[39m{}\u001b[39;00m\u001b[39m of kfold \u001b[39m\u001b[39m{}\u001b[39;00m\u001b[39m'\u001b[39m\u001b[39m.\u001b[39mformat(i,kf\u001b[39m.\u001b[39mn_splits))\n\u001b[0;32m     <a href='vscode-notebook-cell:/d%3A/jiamini-project/jiamini_project/model.ipynb#ch0000059?line=14'>15</a>\u001b[0m     xtr,xvl \u001b[39m=\u001b[39m x\u001b[39m.\u001b[39miloc[train_index],x\u001b[39m.\u001b[39miloc[test_index]\n",
      "File \u001b[1;32m~\\AppData\\Local\\Programs\\Python\\Python310\\lib\\site-packages\\sklearn\\model_selection\\_split.py:340\u001b[0m, in \u001b[0;36m_BaseKFold.split\u001b[1;34m(self, X, y, groups)\u001b[0m\n\u001b[0;32m    <a href='file:///c%3A/Users/mickn/AppData/Local/Programs/Python/Python310/lib/site-packages/sklearn/model_selection/_split.py?line=331'>332</a>\u001b[0m \u001b[39mif\u001b[39;00m \u001b[39mself\u001b[39m\u001b[39m.\u001b[39mn_splits \u001b[39m>\u001b[39m n_samples:\n\u001b[0;32m    <a href='file:///c%3A/Users/mickn/AppData/Local/Programs/Python/Python310/lib/site-packages/sklearn/model_selection/_split.py?line=332'>333</a>\u001b[0m     \u001b[39mraise\u001b[39;00m \u001b[39mValueError\u001b[39;00m(\n\u001b[0;32m    <a href='file:///c%3A/Users/mickn/AppData/Local/Programs/Python/Python310/lib/site-packages/sklearn/model_selection/_split.py?line=333'>334</a>\u001b[0m         (\n\u001b[0;32m    <a href='file:///c%3A/Users/mickn/AppData/Local/Programs/Python/Python310/lib/site-packages/sklearn/model_selection/_split.py?line=334'>335</a>\u001b[0m             \u001b[39m\"\u001b[39m\u001b[39mCannot have number of splits n_splits=\u001b[39m\u001b[39m{0}\u001b[39;00m\u001b[39m greater\u001b[39m\u001b[39m\"\u001b[39m\n\u001b[0;32m    <a href='file:///c%3A/Users/mickn/AppData/Local/Programs/Python/Python310/lib/site-packages/sklearn/model_selection/_split.py?line=335'>336</a>\u001b[0m             \u001b[39m\"\u001b[39m\u001b[39m than the number of samples: n_samples=\u001b[39m\u001b[39m{1}\u001b[39;00m\u001b[39m.\u001b[39m\u001b[39m\"\u001b[39m\n\u001b[0;32m    <a href='file:///c%3A/Users/mickn/AppData/Local/Programs/Python/Python310/lib/site-packages/sklearn/model_selection/_split.py?line=336'>337</a>\u001b[0m         )\u001b[39m.\u001b[39mformat(\u001b[39mself\u001b[39m\u001b[39m.\u001b[39mn_splits, n_samples)\n\u001b[0;32m    <a href='file:///c%3A/Users/mickn/AppData/Local/Programs/Python/Python310/lib/site-packages/sklearn/model_selection/_split.py?line=337'>338</a>\u001b[0m     )\n\u001b[1;32m--> <a href='file:///c%3A/Users/mickn/AppData/Local/Programs/Python/Python310/lib/site-packages/sklearn/model_selection/_split.py?line=339'>340</a>\u001b[0m \u001b[39mfor\u001b[39;00m train, test \u001b[39min\u001b[39;00m \u001b[39msuper\u001b[39m()\u001b[39m.\u001b[39msplit(X, y, groups):\n\u001b[0;32m    <a href='file:///c%3A/Users/mickn/AppData/Local/Programs/Python/Python310/lib/site-packages/sklearn/model_selection/_split.py?line=340'>341</a>\u001b[0m     \u001b[39myield\u001b[39;00m train, test\n",
      "File \u001b[1;32m~\\AppData\\Local\\Programs\\Python\\Python310\\lib\\site-packages\\sklearn\\model_selection\\_split.py:86\u001b[0m, in \u001b[0;36mBaseCrossValidator.split\u001b[1;34m(self, X, y, groups)\u001b[0m\n\u001b[0;32m     <a href='file:///c%3A/Users/mickn/AppData/Local/Programs/Python/Python310/lib/site-packages/sklearn/model_selection/_split.py?line=83'>84</a>\u001b[0m X, y, groups \u001b[39m=\u001b[39m indexable(X, y, groups)\n\u001b[0;32m     <a href='file:///c%3A/Users/mickn/AppData/Local/Programs/Python/Python310/lib/site-packages/sklearn/model_selection/_split.py?line=84'>85</a>\u001b[0m indices \u001b[39m=\u001b[39m np\u001b[39m.\u001b[39marange(_num_samples(X))\n\u001b[1;32m---> <a href='file:///c%3A/Users/mickn/AppData/Local/Programs/Python/Python310/lib/site-packages/sklearn/model_selection/_split.py?line=85'>86</a>\u001b[0m \u001b[39mfor\u001b[39;00m test_index \u001b[39min\u001b[39;00m \u001b[39mself\u001b[39m\u001b[39m.\u001b[39m_iter_test_masks(X, y, groups):\n\u001b[0;32m     <a href='file:///c%3A/Users/mickn/AppData/Local/Programs/Python/Python310/lib/site-packages/sklearn/model_selection/_split.py?line=86'>87</a>\u001b[0m     train_index \u001b[39m=\u001b[39m indices[np\u001b[39m.\u001b[39mlogical_not(test_index)]\n\u001b[0;32m     <a href='file:///c%3A/Users/mickn/AppData/Local/Programs/Python/Python310/lib/site-packages/sklearn/model_selection/_split.py?line=87'>88</a>\u001b[0m     test_index \u001b[39m=\u001b[39m indices[test_index]\n",
      "File \u001b[1;32m~\\AppData\\Local\\Programs\\Python\\Python310\\lib\\site-packages\\sklearn\\model_selection\\_split.py:709\u001b[0m, in \u001b[0;36mStratifiedKFold._iter_test_masks\u001b[1;34m(self, X, y, groups)\u001b[0m\n\u001b[0;32m    <a href='file:///c%3A/Users/mickn/AppData/Local/Programs/Python/Python310/lib/site-packages/sklearn/model_selection/_split.py?line=707'>708</a>\u001b[0m \u001b[39mdef\u001b[39;00m \u001b[39m_iter_test_masks\u001b[39m(\u001b[39mself\u001b[39m, X, y\u001b[39m=\u001b[39m\u001b[39mNone\u001b[39;00m, groups\u001b[39m=\u001b[39m\u001b[39mNone\u001b[39;00m):\n\u001b[1;32m--> <a href='file:///c%3A/Users/mickn/AppData/Local/Programs/Python/Python310/lib/site-packages/sklearn/model_selection/_split.py?line=708'>709</a>\u001b[0m     test_folds \u001b[39m=\u001b[39m \u001b[39mself\u001b[39;49m\u001b[39m.\u001b[39;49m_make_test_folds(X, y)\n\u001b[0;32m    <a href='file:///c%3A/Users/mickn/AppData/Local/Programs/Python/Python310/lib/site-packages/sklearn/model_selection/_split.py?line=709'>710</a>\u001b[0m     \u001b[39mfor\u001b[39;00m i \u001b[39min\u001b[39;00m \u001b[39mrange\u001b[39m(\u001b[39mself\u001b[39m\u001b[39m.\u001b[39mn_splits):\n\u001b[0;32m    <a href='file:///c%3A/Users/mickn/AppData/Local/Programs/Python/Python310/lib/site-packages/sklearn/model_selection/_split.py?line=710'>711</a>\u001b[0m         \u001b[39myield\u001b[39;00m test_folds \u001b[39m==\u001b[39m i\n",
      "File \u001b[1;32m~\\AppData\\Local\\Programs\\Python\\Python310\\lib\\site-packages\\sklearn\\model_selection\\_split.py:652\u001b[0m, in \u001b[0;36mStratifiedKFold._make_test_folds\u001b[1;34m(self, X, y)\u001b[0m\n\u001b[0;32m    <a href='file:///c%3A/Users/mickn/AppData/Local/Programs/Python/Python310/lib/site-packages/sklearn/model_selection/_split.py?line=649'>650</a>\u001b[0m allowed_target_types \u001b[39m=\u001b[39m (\u001b[39m\"\u001b[39m\u001b[39mbinary\u001b[39m\u001b[39m\"\u001b[39m, \u001b[39m\"\u001b[39m\u001b[39mmulticlass\u001b[39m\u001b[39m\"\u001b[39m)\n\u001b[0;32m    <a href='file:///c%3A/Users/mickn/AppData/Local/Programs/Python/Python310/lib/site-packages/sklearn/model_selection/_split.py?line=650'>651</a>\u001b[0m \u001b[39mif\u001b[39;00m type_of_target_y \u001b[39mnot\u001b[39;00m \u001b[39min\u001b[39;00m allowed_target_types:\n\u001b[1;32m--> <a href='file:///c%3A/Users/mickn/AppData/Local/Programs/Python/Python310/lib/site-packages/sklearn/model_selection/_split.py?line=651'>652</a>\u001b[0m     \u001b[39mraise\u001b[39;00m \u001b[39mValueError\u001b[39;00m(\n\u001b[0;32m    <a href='file:///c%3A/Users/mickn/AppData/Local/Programs/Python/Python310/lib/site-packages/sklearn/model_selection/_split.py?line=652'>653</a>\u001b[0m         \u001b[39m\"\u001b[39m\u001b[39mSupported target types are: \u001b[39m\u001b[39m{}\u001b[39;00m\u001b[39m. Got \u001b[39m\u001b[39m{!r}\u001b[39;00m\u001b[39m instead.\u001b[39m\u001b[39m\"\u001b[39m\u001b[39m.\u001b[39mformat(\n\u001b[0;32m    <a href='file:///c%3A/Users/mickn/AppData/Local/Programs/Python/Python310/lib/site-packages/sklearn/model_selection/_split.py?line=653'>654</a>\u001b[0m             allowed_target_types, type_of_target_y\n\u001b[0;32m    <a href='file:///c%3A/Users/mickn/AppData/Local/Programs/Python/Python310/lib/site-packages/sklearn/model_selection/_split.py?line=654'>655</a>\u001b[0m         )\n\u001b[0;32m    <a href='file:///c%3A/Users/mickn/AppData/Local/Programs/Python/Python310/lib/site-packages/sklearn/model_selection/_split.py?line=655'>656</a>\u001b[0m     )\n\u001b[0;32m    <a href='file:///c%3A/Users/mickn/AppData/Local/Programs/Python/Python310/lib/site-packages/sklearn/model_selection/_split.py?line=657'>658</a>\u001b[0m y \u001b[39m=\u001b[39m column_or_1d(y)\n\u001b[0;32m    <a href='file:///c%3A/Users/mickn/AppData/Local/Programs/Python/Python310/lib/site-packages/sklearn/model_selection/_split.py?line=659'>660</a>\u001b[0m _, y_idx, y_inv \u001b[39m=\u001b[39m np\u001b[39m.\u001b[39munique(y, return_index\u001b[39m=\u001b[39m\u001b[39mTrue\u001b[39;00m, return_inverse\u001b[39m=\u001b[39m\u001b[39mTrue\u001b[39;00m)\n",
      "\u001b[1;31mValueError\u001b[0m: Supported target types are: ('binary', 'multiclass'). Got 'continuous' instead."
     ]
    }
   ],
   "source": [
    "test = pos_sales[(pos_sales.year >= 2020) > (pos_sales.year > 2021)]\n",
    "train = pos_sales[(pos_sales.year > 2021) > (pos_sales.year > 2022)]\n",
    "\n",
    "y= train.profit\n",
    "x = train\n",
    "\n",
    "x = pd.get_dummies(x)\n",
    "train = pd.get_dummies(train)\n",
    "test = pd.get_dummies(test)\n",
    "\n",
    "i = 1 \n",
    "kf = StratifiedKFold(n_splits=5,random_state=1,shuffle=True)\n",
    "for train_index,test_index in kf.split(x , y):\n",
    "    print('{} of kfold {}'.format(i,kf.n_splits))\n",
    "    xtr,xvl = x.iloc[train_index],x.iloc[test_index]\n",
    "    ytr,yvl = y.iloc[train_index],y.iloc[test_index]\n",
    "    model = LogisticRegression(random_state=1)\n",
    "    model.fit(xtr,ytr)\n",
    "    pred_test = model.predict(xvl)\n",
    "    score = accuracy_score(yvl,pred_test)\n",
    "    print('accuracy_score',score)\n",
    "    i+=1\n",
    "    pred_test = model.predict(test)\n",
    "    pred = model.predict_proba(xvl)[:, 1]"
   ]
  }
 ],
 "metadata": {
  "interpreter": {
   "hash": "e2ab5c6afd5371f5fdc547efce2b344c8691599765b6cc4e242bd0fba09a083c"
  },
  "kernelspec": {
   "display_name": "Python 3.10.2 ('env': venv)",
   "language": "python",
   "name": "python3"
  },
  "language_info": {
   "codemirror_mode": {
    "name": "ipython",
    "version": 3
   },
   "file_extension": ".py",
   "mimetype": "text/x-python",
   "name": "python",
   "nbconvert_exporter": "python",
   "pygments_lexer": "ipython3",
   "version": "3.10.2"
  },
  "orig_nbformat": 4
 },
 "nbformat": 4,
 "nbformat_minor": 2
}
