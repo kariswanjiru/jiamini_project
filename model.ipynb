{
 "cells": [
  {
   "cell_type": "code",
   "execution_count": 1,
   "metadata": {},
   "outputs": [],
   "source": [
    "import pandas as pd\n",
    "import numpy as np\n"
   ]
  },
  {
   "cell_type": "code",
   "execution_count": 2,
   "metadata": {},
   "outputs": [],
   "source": [
    "sales = pd.read_csv('data/sales.csv')\n",
    "sales_items = pd.read_csv('data/sales_items.csv')\n"
   ]
  },
  {
   "cell_type": "code",
   "execution_count": 3,
   "metadata": {},
   "outputs": [],
   "source": [
    "all_sales = pd.merge(sales_items, sales, on='sale_id')\n"
   ]
  },
  {
   "cell_type": "code",
   "execution_count": 4,
   "metadata": {},
   "outputs": [],
   "source": [
    "all_sales.sale_time = pd.to_datetime(all_sales.sale_time, format='%Y-%m-%d')\n"
   ]
  },
  {
   "cell_type": "code",
   "execution_count": 5,
   "metadata": {},
   "outputs": [
    {
     "name": "stdout",
     "output_type": "stream",
     "text": [
      "<class 'pandas.core.frame.DataFrame'>\n",
      "Int64Index: 120175 entries, 0 to 120174\n",
      "Data columns (total 11 columns):\n",
      " #   Column              Non-Null Count   Dtype         \n",
      "---  ------              --------------   -----         \n",
      " 0   sale_id             120175 non-null  int64         \n",
      " 1   item_id             120175 non-null  int64         \n",
      " 2   quantity_purchased  120175 non-null  int64         \n",
      " 3   item_cost_price     120175 non-null  float64       \n",
      " 4   item_unit_price     120175 non-null  float64       \n",
      " 5   discount_percent    120175 non-null  int64         \n",
      " 6   sale_time           120175 non-null  datetime64[ns]\n",
      " 7   customer_id         0 non-null       float64       \n",
      " 8   employee_id         120175 non-null  int64         \n",
      " 9   comment             2 non-null       object        \n",
      " 10  payment_type        120175 non-null  object        \n",
      "dtypes: datetime64[ns](1), float64(3), int64(5), object(2)\n",
      "memory usage: 11.0+ MB\n"
     ]
    }
   ],
   "source": [
    "all_sales.info()\n"
   ]
  },
  {
   "cell_type": "code",
   "execution_count": 6,
   "metadata": {},
   "outputs": [],
   "source": [
    "all_sales.drop([all_sales.index[0], all_sales.index[1],all_sales.index[2], all_sales.index[3]], inplace=True)\n",
    "#all_sales.drop(all_sales['sale_time'].dt.year == 2005,axis=0)\n"
   ]
  },
  {
   "cell_type": "code",
   "execution_count": 7,
   "metadata": {},
   "outputs": [],
   "source": [
    "all_sales.drop(['comment', 'customer_id', 'discount_percent'],\n",
    "               axis=1, inplace=True)\n"
   ]
  },
  {
   "cell_type": "code",
   "execution_count": 8,
   "metadata": {},
   "outputs": [],
   "source": [
    "all_sales.to_csv('pos_sales.csv', index=False)\n"
   ]
  },
  {
   "cell_type": "code",
   "execution_count": 9,
   "metadata": {},
   "outputs": [],
   "source": [
    "pos_sales = pd.read_csv('pos_sales.csv')\n",
    "#if pos_sales[\"quantity_purchased\"] <= 0:\n",
    "    #pos_sales[\"quantity_purchased\"] = pos_sales[\"quantity_purchased\"] * -1\n",
    "#if pos_sales[pos_sales.quantity_purchased <= 0]:\n",
    " #   pos_sales.quantity_purchased * -1\n",
    "times = pos_sales[pos_sales.quantity_purchased <= 0]['quantity_purchased']*-1\n",
    "wanjiru=times.to_frame()\n",
    "rainer = pd.merge(pos_sales,wanjiru,on='quantity_purchased')\n",
    "rainer"
   ]
  },
  {
   "cell_type": "markdown",
   "metadata": {},
   "source": [
    "# feauture engineering"
   ]
  }
 ],
 "metadata": {
  "interpreter": {
   "hash": "6cd2ebf42fd9402c4162cd7fd792360c3795a65655344ed2b2ff3a62ed7acfed"
  },
  "kernelspec": {
   "display_name": "Python 3.8.8 ('base')",
   "language": "python",
   "name": "python3"
  },
  "language_info": {
   "codemirror_mode": {
    "name": "ipython",
    "version": 3
   },
   "file_extension": ".py",
   "mimetype": "text/x-python",
   "name": "python",
   "nbconvert_exporter": "python",
   "pygments_lexer": "ipython3",
   "version": "3.8.8"
  },
  "orig_nbformat": 4
 },
 "nbformat": 4,
 "nbformat_minor": 2
}
